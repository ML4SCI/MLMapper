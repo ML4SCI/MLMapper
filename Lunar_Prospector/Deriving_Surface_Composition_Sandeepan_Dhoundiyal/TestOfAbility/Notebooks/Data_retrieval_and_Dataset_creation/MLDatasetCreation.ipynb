{
 "cells": [
  {
   "cell_type": "code",
   "execution_count": 1,
   "id": "c58adef0",
   "metadata": {},
   "outputs": [
    {
     "data": {
      "text/html": [
       "<style>.container { width:100% !important; }</style>"
      ],
      "text/plain": [
       "<IPython.core.display.HTML object>"
      ]
     },
     "metadata": {},
     "output_type": "display_data"
    }
   ],
   "source": [
    "#expand cell width to 100%\n",
    "from IPython.display import display, HTML\n",
    "display(HTML(\"<style>.container { width:100% !important; }</style>\"))"
   ]
  },
  {
   "cell_type": "code",
   "execution_count": 2,
   "id": "f5353d5e",
   "metadata": {},
   "outputs": [],
   "source": [
    "#import listdir\n",
    "from os import listdir\n",
    "#import regex\n",
    "import re\n",
    "#import numpy\n",
    "import numpy as np\n",
    "#import struct to convert byte to float32\n",
    "import struct\n",
    "#import minidom from xml.dom\n",
    "from xml.dom import minidom"
   ]
  },
  {
   "cell_type": "code",
   "execution_count": 3,
   "id": "f9b5f797",
   "metadata": {},
   "outputs": [],
   "source": [
    "#set the directory containing the .txt files with the abundances\n",
    "abundanceFilesDirectory=\"D:/Non-academic/GSOC23/GammaRaySpectroscopy/5DegreeEstimates\""
   ]
  },
  {
   "cell_type": "code",
   "execution_count": 4,
   "id": "ee8a159d",
   "metadata": {},
   "outputs": [],
   "source": [
    "#get the names of the files in the directoty\n",
    "fileNames=listdir(abundanceFilesDirectory)"
   ]
  },
  {
   "cell_type": "code",
   "execution_count": 5,
   "id": "d2a21236",
   "metadata": {},
   "outputs": [],
   "source": [
    "#create lists to hold the extent (min max of lat and long)\n",
    "minLats=[]\n",
    "maxLats=[]\n",
    "minLongs=[]\n",
    "maxLongs=[]\n",
    "#create list of lists to hold the abundances\n",
    "allAbundances=[]"
   ]
  },
  {
   "cell_type": "code",
   "execution_count": 6,
   "id": "52a2b5ae",
   "metadata": {},
   "outputs": [],
   "source": [
    "#create a flag to check wether the lat longs are to be saved\n",
    "flag=True\n",
    "#iterate over all the files\n",
    "for currentFileName in fileNames:\n",
    "    #open the files and read all the lines\n",
    "    with open(abundanceFilesDirectory+'/'+currentFileName) as currentFile:\n",
    "        fileLines=currentFile.readlines()\n",
    "    #drop lines 0-12 as they contain description of the data\n",
    "    fileLines=fileLines[13:]\n",
    "    #create a list to hold the current abundances\n",
    "    currentAbundances=[]\n",
    "    #iterate through each line\n",
    "    for currentLine in fileLines:\n",
    "        #extract the extent and abundances\n",
    "        minLat,maxLat,minLong,maxLong,abundance=list(map(float,re.findall(\"-?\\d+\\.\\d+\",currentLine)))\n",
    "        if flag:\n",
    "            minLats.append(minLat)\n",
    "            maxLats.append(maxLat)\n",
    "            minLongs.append(minLong)\n",
    "            maxLongs.append(maxLong)\n",
    "        currentAbundances.append(abundance)\n",
    "    allAbundances.append(np.array(currentAbundances))\n",
    "    if flag:\n",
    "        flag=False\n",
    "#convert lat and longs to numpy array\n",
    "minLats=np.array(minLats)\n",
    "maxLats=np.array(maxLats)\n",
    "minLongs=np.array(minLongs)\n",
    "maxLongs=np.array(maxLongs)"
   ]
  },
  {
   "cell_type": "code",
   "execution_count": 7,
   "id": "f07e7d8a",
   "metadata": {},
   "outputs": [],
   "source": [
    "#define a function which takes the addresses of a .dat file and its associated .xml file\n",
    "#reads the parameters from the .xml file uses it to read the spectra from the .dat file\n",
    "#returns a dataframe where each row corresponds to each record in the .dat file\n",
    "def readGRSData(datFileAddress,xmlFileAddress):\n",
    "    #create a list containing the fields to be read from the .dat file\n",
    "    requiredFields=['Spacecraft_Altitude','Subspacecraft_Latitude','Subspacecraft_Longitude']\n",
    "    #read the xml file\n",
    "    xmlFile=minidom.parse(xmlFileAddress)\n",
    "    #get the elements describing the columns of the .dat file\n",
    "    columnElements=xmlFile.getElementsByTagName('Field_Binary')\n",
    "    #create an empty list to hold the indices of the columns to be read\n",
    "    requiredColumnIndices=[]\n",
    "    #create an empty list to hold the no. of bytes per element for each column to be read\n",
    "    bytesPerItermPerColumn=[]\n",
    "    #create an empty list to hold the number of the starting position for each column\n",
    "    startingBytePerColumn=[]\n",
    "    #iterate over the names of the fields in the current data record\n",
    "    for i in range(len(columnElements)):\n",
    "        #iterate over the required fields\n",
    "        for j in requiredFields:\n",
    "            #if the current field is required save its index, starting bytes, and length in bytes\n",
    "            if columnElements[i].getElementsByTagName('name')[0].firstChild.nodeValue==j:\n",
    "                requiredColumnIndices.append(i)\n",
    "                startingBytePerColumn.append(int(columnElements[i].getElementsByTagName('field_location')[0].firstChild.nodeValue))\n",
    "                bytesPerItermPerColumn.append(int(columnElements[i].getElementsByTagName('field_length')[0].firstChild.nodeValue))\n",
    "\n",
    "    #create two dictionaries marking the starting byte and length for the accepted and rejected spectra\n",
    "    acceptedSpectraDescription={\"startingByte\":-1,\"noOfBytes\":-1}\n",
    "    rejectedSpectraDescription={\"startingByte\":-1,\"noOfBytes\":-1}\n",
    "    #get element describing the accepted spectra in the .dat file\n",
    "\n",
    "    acceptedSpectraElement=xmlFile.getElementsByTagName('Group_Field_Binary')[0]\n",
    "    #save the starting position\n",
    "    acceptedSpectraDescription[\"startingByte\"]=int(acceptedSpectraElement.getElementsByTagName('group_location')[0].firstChild.nodeValue)\n",
    "    #save the ending position\n",
    "    acceptedSpectraDescription[\"noOfBytes\"]=int(acceptedSpectraElement.getElementsByTagName('group_length')[0].firstChild.nodeValue)\n",
    "\n",
    "    #get element describing the accepted spectra in the .dat file\n",
    "    rejectedSpectraElement=xmlFile.getElementsByTagName('Group_Field_Binary')[1]\n",
    "    #save the starting position\n",
    "    rejectedSpectraDescription[\"startingByte\"]=int(rejectedSpectraElement.getElementsByTagName('group_location')[0].firstChild.nodeValue)\n",
    "    #save the ending position\n",
    "    rejectedSpectraDescription[\"noOfBytes\"]=int(rejectedSpectraElement.getElementsByTagName('group_length')[0].firstChild.nodeValue)\n",
    "    #save the number of records in the .dat file\n",
    "    noOfRecords=int(xmlFile.getElementsByTagName('Table_Binary')[0].getElementsByTagName('records')[0].firstChild.nodeValue)\n",
    "    #save the number of bytes per record\n",
    "    noOfBytesPerRecord=int(xmlFile.getElementsByTagName('Table_Binary')[0].getElementsByTagName('Record_Binary')[0].getElementsByTagName('record_length')[0].firstChild.nodeValue)\n",
    "\n",
    "\n",
    "    #create an empty list to hold each byte of each record in the .data file\n",
    "    datFileBytes=[]\n",
    "    #open the .dat file\n",
    "    with open(datFileAddress,mode='rb') as datFile:\n",
    "        #iterate over each record\n",
    "        for i in range(noOfRecords):\n",
    "            #create a temporary list hold the bytes of each record\n",
    "            currentRecordBytes=[]\n",
    "            #iterate over all bytes in the record\n",
    "            for j in range(noOfBytesPerRecord):\n",
    "                #read each byte of the .dat file seperately into an array\n",
    "                currentRecordBytes.append(datFile.read(1))\n",
    "            #add the current record to the list of bytes\n",
    "            datFileBytes.append(currentRecordBytes)\n",
    "\n",
    "    #set the number of bytes per channel\n",
    "    bytesPerChannel=4\n",
    "    #set the number of channels in the spectra\n",
    "    channelsPerSpectra=int(acceptedSpectraDescription[\"noOfBytes\"]/bytesPerChannel)\n",
    "\n",
    "    #create empty arrays to hold:\n",
    "    #accepted spectra\n",
    "    acceptedSpectras=[]\n",
    "    #rejected spectra\n",
    "    rejectedSpectras=[]\n",
    "    #altitudes\n",
    "    altitudes=[]\n",
    "    #latitudes\n",
    "    latitudes=[]\n",
    "    #longitudes\n",
    "    longitudes=[]\n",
    "\n",
    "    #iterate through all the records\n",
    "    for i in range(len(datFileBytes)):\n",
    "        #get the bytes for the current record\n",
    "        currentRecordBytes=datFileBytes[i]\n",
    "        #read the bytes for the accepted spectra\n",
    "        acceptedSpectraBytes=currentRecordBytes[acceptedSpectraDescription[\"startingByte\"]-1:acceptedSpectraDescription[\"startingByte\"]-1+acceptedSpectraDescription[\"noOfBytes\"]]\n",
    "        #read the accepted spectra for the current record\n",
    "        acceptedSpectra=[]\n",
    "        #iterate through each channel in the spectra\n",
    "        for j in range(channelsPerSpectra):\n",
    "            #get the staring index of the channel\n",
    "            startIndex=bytesPerChannel*j\n",
    "            #get the end+1 index of the channel\n",
    "            endIndex=startIndex+4\n",
    "            #get the bytes making up the current channel\n",
    "            currentChannelBytes=acceptedSpectraBytes[startIndex:endIndex]\n",
    "            #combine list into a single variable\n",
    "            currentChannelBytes=currentChannelBytes[0]+currentChannelBytes[1]+currentChannelBytes[2]+currentChannelBytes[3]\n",
    "            #convert the byte data into float 32 and append it to the spectra\n",
    "            acceptedSpectra.append(struct.unpack('f',currentChannelBytes)[0])\n",
    "\n",
    "        #read the bytes for the rejected spectra\n",
    "        rejectedSpectraBytes=currentRecordBytes[rejectedSpectraDescription[\"startingByte\"]-1:rejectedSpectraDescription[\"startingByte\"]-1+rejectedSpectraDescription[\"noOfBytes\"]]\n",
    "        #read the rejected spectra for the current record\n",
    "        rejectedSpectra=[]\n",
    "        #iterate through each channel in the spectra\n",
    "        for j in range(channelsPerSpectra):\n",
    "            #get the staring index of the channel\n",
    "            startIndex=bytesPerChannel*j\n",
    "            #get the end+1 index of the channel\n",
    "            endIndex=startIndex+4\n",
    "            #get the bytes making up the current channel\n",
    "            currentChannelBytes=rejectedSpectraBytes[startIndex:endIndex]\n",
    "            #combine list into a single variable\n",
    "            currentChannelBytes=currentChannelBytes[0]+currentChannelBytes[1]+currentChannelBytes[2]+currentChannelBytes[3]\n",
    "            #convert the byte data into float 32 and append it to the spectra\n",
    "            rejectedSpectra.append(struct.unpack('f',currentChannelBytes)[0])\n",
    "\n",
    "        #read the alltitude\n",
    "        altitudeBytes=currentRecordBytes[startingBytePerColumn[0]-1:startingBytePerColumn[0]-1+bytesPerItermPerColumn[0]]\n",
    "        altitudeBytes=altitudeBytes[0]+altitudeBytes[1]+altitudeBytes[2]+altitudeBytes[3]\n",
    "        altitude=struct.unpack('f',altitudeBytes)[0]\n",
    "        #read the latitude\n",
    "        latitudeBytes=currentRecordBytes[startingBytePerColumn[1]-1:startingBytePerColumn[1]-1+bytesPerItermPerColumn[1]]\n",
    "        latitudeBytes=latitudeBytes[0]+latitudeBytes[1]+latitudeBytes[2]+latitudeBytes[3]\n",
    "        latitude=struct.unpack('f',latitudeBytes)[0]\n",
    "        #read the longitude\n",
    "        longitudeBytes=currentRecordBytes[startingBytePerColumn[2]-1:startingBytePerColumn[2]-1+bytesPerItermPerColumn[2]]\n",
    "        longitudeBytes=longitudeBytes[0]+longitudeBytes[1]+longitudeBytes[2]+longitudeBytes[3]\n",
    "        longitude=struct.unpack('f',longitudeBytes)[0]\n",
    "\n",
    "        #append all five to their respective lists\n",
    "        #accepted spectra\n",
    "        acceptedSpectras.append(np.array(acceptedSpectra))\n",
    "        #rejected spectra\n",
    "        rejectedSpectras.append(np.array(rejectedSpectra))\n",
    "        #altitudes\n",
    "        altitudes.append(altitude)\n",
    "        #latitudes\n",
    "        latitudes.append(latitude)\n",
    "        #longitudes\n",
    "        longitudes.append(longitude)\n",
    "        \n",
    "    return np.array(acceptedSpectras),np.array(altitudes),np.array(latitudes),np.array(longitudes)\n",
    "    \n",
    "    "
   ]
  },
  {
   "cell_type": "code",
   "execution_count": 8,
   "id": "b9178243",
   "metadata": {},
   "outputs": [],
   "source": [
    "#get the directory where the files with the spectra are saved\n",
    "spectraDirectory=\"D:/Non-academic/GSOC23/GammaRaySpectroscopy/Dataset\"\n",
    "#get names of the .xml and .dat files\n",
    "allFiles=listdir(spectraDirectory)\n",
    "#create lists to hold the .xml and .dat file addresses\n",
    "xmlFileAddresses=[]\n",
    "datFileAddresses=[]\n",
    "#iterate through all the files and seperate them into .xml and .dat files\n",
    "for currentFileName in allFiles:\n",
    "    if currentFileName[-3:]=='dat':\n",
    "        datFileAddresses.append(currentFileName)\n",
    "    elif currentFileName[-3:]=='xml':\n",
    "        xmlFileAddresses.append(currentFileName)"
   ]
  },
  {
   "cell_type": "code",
   "execution_count": 9,
   "id": "bd4b75ec",
   "metadata": {},
   "outputs": [],
   "source": [
    "#create a list of numpy of arrays where each element in the list corresponds to the summed spectra of the corresponding 5 degree region\n",
    "summedSpectra=[np.zeros(512)]*maxLongs.shape[0]\n",
    "#create a list to hold the number of spectra in each region\n",
    "noOfSpectraPerRegion=[0]*maxLongs.shape[0]"
   ]
  },
  {
   "cell_type": "code",
   "execution_count": 10,
   "id": "3ef591fc",
   "metadata": {},
   "outputs": [],
   "source": [
    "#specify the altitude\n",
    "desiredAltitude=100\n",
    "tolerance=10\n",
    "#iterate through all the .dat, .xml file combinations to read all the spectra\n",
    "for xmlFileAddress,datFileAddress in zip(xmlFileAddresses,datFileAddresses):\n",
    "    #read the data from the dataframe\n",
    "    acceptedSpectras,altitudes,latitudes,longitudes=readGRSData(spectraDirectory+'/'+datFileAddress,spectraDirectory+'/'+xmlFileAddress)\n",
    "    \n",
    "    #change longitude values between 180 and 360 to -180 to 0\n",
    "    longitudes=np.where(longitudes>=180,longitudes-360,longitudes)\n",
    "    #iterate over each region\n",
    "    for i,minLat,maxLat,minLong,maxLong in zip(range(minLats.shape[0]),minLats,maxLats,minLongs,maxLongs):\n",
    "        #get the indices of the spectra that are in the current region\n",
    "        currentRegionSpectraIndices=np.where(np.logical_and(np.logical_and(np.logical_and(longitudes<=maxLat,\n",
    "                                                                                          longitudes>=minLat),\n",
    "                                                                           np.logical_and(latitudes<=maxLat,\n",
    "                                                                                          latitudes>=minLat)),\n",
    "                                                            np.logical_and(altitudes>=desiredAltitude-tolerance,\n",
    "                                                                           altitudes<=desiredAltitude+tolerance)))[0]\n",
    "        #get the spectra in the region\n",
    "        if len(currentRegionSpectraIndices)>0:\n",
    "            summedSpectra[i]=summedSpectra[i]+np.sum(acceptedSpectras[currentRegionSpectraIndices,:],axis=0)\n",
    "            noOfSpectraPerRegion[i]+=len(currentRegionSpectraIndices)"
   ]
  },
  {
   "cell_type": "code",
   "execution_count": 16,
   "id": "e08376cc",
   "metadata": {},
   "outputs": [],
   "source": [
    "#compute average spectra per region\n",
    "averagedSpectra=[np.zeros(512)]*maxLongs.shape[0]\n",
    "#iterate over all regions\n",
    "for i in range(len(summedSpectra)):\n",
    "    averagedSpectra[i]=summedSpectra[i]/noOfSpectraPerRegion[i]"
   ]
  },
  {
   "cell_type": "code",
   "execution_count": 18,
   "id": "e9c22e41",
   "metadata": {},
   "outputs": [
    {
     "data": {
      "image/png": "[encoded data removed]",
      "text/plain": [
       "<Figure size 1440x720 with 1 Axes>"
      ]
     },
     "metadata": {
      "needs_background": "light"
     },
     "output_type": "display_data"
    }
   ],
   "source": [
    "#plot all the spectra\n",
    "import matplotlib.pyplot as plt\n",
    "plt.figure(figsize=(20,10))\n",
    "plt.xticks(fontsize=20)\n",
    "plt.yticks(fontsize=20)\n",
    "plt.xlabel(\"Channel no.\",fontsize=24)\n",
    "plt.ylabel(\"Counts\",fontsize=24)\n",
    "plt.title(\"Average spectra of each 5\\u00B0 region\",fontsize=30)\n",
    "for i in averagedSpectra:\n",
    "    plt.plot(np.arange(i.shape[0]),i)"
   ]
  },
  {
   "cell_type": "code",
   "execution_count": 15,
   "id": "d256e6d9",
   "metadata": {},
   "outputs": [
    {
     "data": {
      "text/plain": [
       "1790"
      ]
     },
     "execution_count": 15,
     "metadata": {},
     "output_type": "execute_result"
    }
   ],
   "source": [
    "minLats=minLats.tolist()\n",
    "maxLats=maxLats.tolist()\n",
    "minLongs=minLongs.tolist()\n",
    "maxLongs=maxLongs.tolist()"
   ]
  },
  {
   "cell_type": "code",
   "execution_count": 24,
   "id": "7a2319d5",
   "metadata": {},
   "outputs": [],
   "source": [
    "#create a dictionary from the the lists\n",
    "dataDictionary={'minLats':minLats,\n",
    "                'maxLats':maxLats,\n",
    "                'minLongs':minLongs,\n",
    "                'maxLongs':maxLongs,\n",
    "                'averageSpectra':averagedSpectra,}"
   ]
  },
  {
   "cell_type": "code",
   "execution_count": 30,
   "id": "d7d1191a",
   "metadata": {},
   "outputs": [],
   "source": [
    "#add abundances to the dictionary\n",
    "for i in range(len(fileNames)):\n",
    "    currentFileName=fileNames[i][:fileNames[i].index('5d.txt')]\n",
    "    currentAbundance=allAbundances[i].tolist()\n",
    "    dataDictionary.update({currentFileName:currentAbundance})"
   ]
  },
  {
   "cell_type": "code",
   "execution_count": 33,
   "id": "ba286880",
   "metadata": {},
   "outputs": [],
   "source": [
    "#save dataset as dataframe\n",
    "import pandas as pd\n",
    "dataFrame=pd.DataFrame.from_dict(dataDictionary)\n",
    "dataFrameAddress=\"D:/Non-academic/GSOC23/GammaRaySpectroscopy/Dataset/5DegreeDataset.csv\"\n",
    "dataFrame.to_csv(dataFrameAddress)"
   ]
  },
  {
   "cell_type": "code",
   "execution_count": null,
   "id": "291ecb0c",
   "metadata": {},
   "outputs": [],
   "source": []
  }
 ],
 "metadata": {
  "kernelspec": {
   "display_name": "Python 3 (ipykernel)",
   "language": "python",
   "name": "python3"
  },
  "language_info": {
   "codemirror_mode": {
    "name": "ipython",
    "version": 3
   },
   "file_extension": ".py",
   "mimetype": "text/x-python",
   "name": "python",
   "nbconvert_exporter": "python",
   "pygments_lexer": "ipython3",
   "version": "3.10.5"
  }
 },
 "nbformat": 4,
 "nbformat_minor": 5
}
